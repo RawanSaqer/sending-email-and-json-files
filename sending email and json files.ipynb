{
 "cells": [
  {
   "cell_type": "markdown",
   "metadata": {},
   "source": [
    "# Sending Email using SMTP\n",
    "- Simple Mail Transfer Protocol (SMTP) is a protocol, which handles sending e-mail and routing e-mail between mail servers.\n",
    "\n",
    "- Python provides smtplib module, which defines an SMTP client session object that can be used to send mail to any Internet machine with an SMTP or ESMTP listener daemon.\n"
   ]
  },
  {
   "cell_type": "code",
   "execution_count": 14,
   "metadata": {},
   "outputs": [],
   "source": [
    "import email\n",
    "import smtplib\n",
    "a='Hello saleh'\n",
    "\n",
    "def Send_Email(body, to, subject):\n",
    "\n",
    "    #content=fun.Read('Best_Model_MI_and_Accuracy')\n",
    "    #content=str(content)\n",
    "    #fun.Append('Best_Model_MI_and_Accuracy','Very good job')     \n",
    "    #mymsg=fun.Read(    'Best_Model_MI_and_Accuracy') \n",
    "    msg = email.message_from_string(body)\n",
    "    ##send_to=[\"hasan.alblowi@outlook.com\",'engalatawisulaiman@gmail.com']\n",
    "    msg['From'] = \"salehalis@hotmail.com\"\n",
    "    ##msg['To'] = to[0]\n",
    "    msg['Subject'] = subject\n",
    "    ### smtp.gmail.com\n",
    "    s = smtplib.SMTP(\"smtp.live.com\",587)\n",
    "    # Identify yourself to an SMTP server using EHLO. The hostname argument defaults to the fully qualified domain name of the local host.\n",
    "    s.ehlo() # Hostname to send for this command defaults to the fully qualified domain name of the local host.\n",
    "    ##StartTLS is a protocol command used to inform the email server that the email client wants to upgrade from an insecure connection to a secure one using TLS or SSL.\n",
    "    s.starttls() #Puts connection to SMTP server in TLS mode  ## \n",
    "    s.ehlo()\n",
    "    s.login('salehalis@hotmail.com', 'Ajwan1408')\n",
    "\n",
    "    s.sendmail(\"salehalis@hotmail.com\",to, msg.as_string())\n",
    "    \n",
    "    s.quit()\n",
    "    a=10"
   ]
  },
  {
   "cell_type": "code",
   "execution_count": 13,
   "metadata": {},
   "outputs": [],
   "source": [
    "to=[\"maha_altalk@hotmail.com\", 'areej.23@hotmail.com']\n",
    "Send_Email('Hello world', to, subject=\"testing email22222222\" )"
   ]
  },
  {
   "cell_type": "markdown",
   "metadata": {},
   "source": [
    "## JSON \n",
    "- json (JavaScript Object Notation) is a popular data format used for representing structured data. It's common to transmit and receive data between a server and web application in JSON format.\n",
    "\n"
   ]
  },
  {
   "cell_type": "code",
   "execution_count": 15,
   "metadata": {},
   "outputs": [],
   "source": [
    "import json"
   ]
  },
  {
   "cell_type": "code",
   "execution_count": 16,
   "metadata": {},
   "outputs": [
    {
     "name": "stdout",
     "output_type": "stream",
     "text": [
      "{\"name\": \"Bob\", \"age\": 12, \"children\": null}\n"
     ]
    }
   ],
   "source": [
    "## Convert dict to JSON\n",
    "\n",
    "import json\n",
    "## dic\n",
    "person_dict = {'name': 'Bob',\n",
    "'age': 12,\n",
    "'children': None\n",
    "}\n",
    "person_json = json.dumps(person_dict)\n",
    "\n",
    "# Output: {\"name\": \"Bob\", \"age\": 12, \"children\": null}\n",
    "print(person_json)"
   ]
  },
  {
   "cell_type": "code",
   "execution_count": 23,
   "metadata": {},
   "outputs": [],
   "source": [
    "import json\n",
    "with open('data22.json', 'w') as f:\n",
    "    json.dump(person_dict, f)"
   ]
  },
  {
   "cell_type": "code",
   "execution_count": 54,
   "metadata": {},
   "outputs": [
    {
     "data": {
      "text/plain": [
       "<function json.load(fp, *, cls=None, object_hook=None, parse_float=None, parse_int=None, parse_constant=None, object_pairs_hook=None, **kw)>"
      ]
     },
     "execution_count": 54,
     "metadata": {},
     "output_type": "execute_result"
    }
   ],
   "source": []
  },
  {
   "cell_type": "code",
   "execution_count": 24,
   "metadata": {},
   "outputs": [
    {
     "name": "stdout",
     "output_type": "stream",
     "text": [
      "{'name': 'Bob', 'age': 12, 'children': None}\n",
      "<class 'dict'>\n"
     ]
    }
   ],
   "source": [
    "data=json.load(open('data22.json', 'r'))\n",
    "print(data)\n",
    "print(type(data))"
   ]
  },
  {
   "cell_type": "code",
   "execution_count": null,
   "metadata": {},
   "outputs": [],
   "source": []
  },
  {
   "cell_type": "code",
   "execution_count": 28,
   "metadata": {},
   "outputs": [
    {
     "name": "stdout",
     "output_type": "stream",
     "text": [
      "3266\n",
      "{'City': 'Postville', 'DBTZ': 'A', 'Name': 'Postville Airport', 'Country': 'Canada', 'IATA/FAA': 'YSO', 'Longitude': '-59.785278', 'ICAO': 'CCD4', 'Airport ID': '7252', 'Latitude': '54.910278', 'Timezone': '223', 'DST': '-4', 'destinations': ['5492', '188', '5502']}\n"
     ]
    }
   ],
   "source": [
    "import json \n",
    "import pickle\n",
    "import json\n",
    "import codecs\n",
    "\n",
    "airports_data=json.load(codecs.open('Airports.json', 'r', 'utf-8-sig'))\n",
    "##airports_data=json.load(open('Airports.json', 'r'))\n",
    "  \n",
    "# returns JSON object as  \n",
    "# a dictionary \n",
    "##data = json.load(f) \n",
    "  \n",
    "# Iterating through the json \n",
    "# list \n",
    "print(len(airports_data))\n",
    "print(airports_data[0])\n",
    "  \n",
    "# Closing file \n",
    "f.close() "
   ]
  },
  {
   "cell_type": "code",
   "execution_count": 32,
   "metadata": {},
   "outputs": [
    {
     "name": "stdout",
     "output_type": "stream",
     "text": [
      "b\n",
      "b\n",
      "d\n"
     ]
    }
   ],
   "source": [
    "def myFun(name,*argv): \n",
    "    for arg in argv: \n",
    "        print (arg)\n",
    "    \n",
    "myFun('s', 'b')\n",
    "\n",
    "myFun('s', 'b','d')"
   ]
  },
  {
   "cell_type": "code",
   "execution_count": 33,
   "metadata": {},
   "outputs": [
    {
     "name": "stdout",
     "output_type": "stream",
     "text": [
      "5\n",
      "24\n"
     ]
    }
   ],
   "source": [
    "def add(*argv):\n",
    "    sum=0\n",
    "    for num in argv: \n",
    "        sum=sum+num\n",
    "    print(sum)\n",
    "add(2,3)\n",
    "add(4,5,7,8)\n"
   ]
  }
 ],
 "metadata": {
  "kernelspec": {
   "display_name": "Python 3",
   "language": "python",
   "name": "python3"
  },
  "language_info": {
   "codemirror_mode": {
    "name": "ipython",
    "version": 3
   },
   "file_extension": ".py",
   "mimetype": "text/x-python",
   "name": "python",
   "nbconvert_exporter": "python",
   "pygments_lexer": "ipython3",
   "version": "3.7.4"
  }
 },
 "nbformat": 4,
 "nbformat_minor": 2
}
